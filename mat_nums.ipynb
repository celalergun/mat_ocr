{
 "cells": [
  {
   "cell_type": "code",
   "execution_count": 1,
   "id": "d549aeaa",
   "metadata": {},
   "outputs": [
    {
     "data": {
      "text/plain": [
       "0\n",
       "603      1\n",
       "803    279\n",
       "805      1\n",
       "808      1\n",
       "809      1\n",
       "883      1\n",
       "903      1\n",
       "dtype: int64"
      ]
     },
     "execution_count": 1,
     "metadata": {},
     "output_type": "execute_result"
    }
   ],
   "source": [
    "import pytesseract\n",
    "import pandas as pd\n",
    "from PIL import Image\n",
    "im = Image.open('mat.jpeg')\n",
    "text = pytesseract.image_to_string(im).replace('\\n', ' ')\n",
    "array = list(filter(lambda s: str.isdigit(s), text.split()))\n",
    "df = pd.DataFrame(array)\n",
    "counts = df.groupby([0]).size()\n",
    "counts\n"
   ]
  },
  {
   "cell_type": "code",
   "execution_count": null,
   "id": "1644bb82",
   "metadata": {},
   "outputs": [],
   "source": []
  }
 ],
 "metadata": {
  "kernelspec": {
   "display_name": "Python 3",
   "language": "python",
   "name": "python3"
  },
  "language_info": {
   "codemirror_mode": {
    "name": "ipython",
    "version": 3
   },
   "file_extension": ".py",
   "mimetype": "text/x-python",
   "name": "python",
   "nbconvert_exporter": "python",
   "pygments_lexer": "ipython3",
   "version": "3.8.8"
  }
 },
 "nbformat": 4,
 "nbformat_minor": 5
}
